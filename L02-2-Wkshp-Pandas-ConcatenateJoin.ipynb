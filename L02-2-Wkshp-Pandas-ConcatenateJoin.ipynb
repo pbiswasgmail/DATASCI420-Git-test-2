{
 "cells": [
  {
   "cell_type": "markdown",
   "metadata": {},
   "source": [
    "# <font color=\"blue\">Lesson 2 - Data Retrieval and Preparation</font>"
   ]
  },
  {
   "cell_type": "markdown",
   "metadata": {},
   "source": [
    "## Section 2. Concatenate and Join Data Frames"
   ]
  },
  {
   "cell_type": "code",
   "execution_count": null,
   "metadata": {
    "collapsed": true
   },
   "outputs": [],
   "source": [
    "# Import Pandas library\n",
    "import ???"
   ]
  },
  {
   "cell_type": "markdown",
   "metadata": {},
   "source": [
    "### Concatenate Data Frames\n",
    "Concatenating dataframes joins them together either by adding one dataframe on to the end of the other, or side by side. How the dataframe are added together depends on whehter you choose the axis to be by row, or by column. \n"
   ]
  },
  {
   "cell_type": "code",
   "execution_count": null,
   "metadata": {
    "collapsed": true
   },
   "outputs": [],
   "source": [
    "# Create 2 dataframes\n",
    "df1 = pd.DataFrame({'A': ['A0', 'A1', 'A2', 'A3'], \\\n",
    "                    'B': ['B0', 'B1', 'B2', 'B3'], \\\n",
    "                    'C': ['C0', 'C1', 'C2', 'C3'], \\\n",
    "                    'D': ['D0', 'D1', 'D2', 'D3']}, \\\n",
    "                   index=[0, 1, 2, 3])\n",
    "\n",
    "df2 = pd.DataFrame({'A': ['A4', 'A5', 'A6', 'A7'], \\\n",
    "                    'B': ['B4', 'B5', 'B6', 'B7'], \\\n",
    "                    'C': ['C4', 'C5', 'C6', 'C7'], \\\n",
    "                    'D': ['D4', 'D5', 'D6', 'D7']},\\\n",
    "                   index=[4, 5, 6, 7]) \n",
    "\n"
   ]
  },
  {
   "cell_type": "code",
   "execution_count": null,
   "metadata": {},
   "outputs": [],
   "source": [
    "df2"
   ]
  },
  {
   "cell_type": "code",
   "execution_count": null,
   "metadata": {
    "collapsed": true
   },
   "outputs": [],
   "source": [
    "frames = [df1, df2]"
   ]
  },
  {
   "cell_type": "code",
   "execution_count": null,
   "metadata": {},
   "outputs": [],
   "source": [
    "frames"
   ]
  },
  {
   "cell_type": "code",
   "execution_count": null,
   "metadata": {},
   "outputs": [],
   "source": [
    "result = pd.concat(frames)\n",
    "\n",
    "# Display the first 10 rows of the result\n",
    "result.head(???)"
   ]
  },
  {
   "cell_type": "markdown",
   "metadata": {},
   "source": [
    "### Join two Data Frames"
   ]
  },
  {
   "cell_type": "markdown",
   "metadata": {},
   "source": [
    "#### Left Join"
   ]
  },
  {
   "cell_type": "code",
   "execution_count": null,
   "metadata": {},
   "outputs": [],
   "source": [
    "left = pd.DataFrame({'key': ['K0', 'K1', 'K2', 'K3'], \\\n",
    "                     'A': ['A0', 'A1', 'A2', 'A3'], \\\n",
    "                     'B': ['B0', 'B1', 'B2', 'B3']})\n",
    "\n",
    "right = pd.DataFrame({'key': ['K0', 'K1', 'K2', 'K3'], \\\n",
    "                      'C': ['C0', 'C1', 'C2', 'C3'], \\\n",
    "                      'D': ['D0', 'D1', 'D2', 'D3']})\n",
    "\n",
    "\n",
    "result = pd.merge(left, right, on='key')\n",
    "\n",
    "# Display the first 5 rows of the result\n",
    "result.???"
   ]
  },
  {
   "cell_type": "markdown",
   "metadata": {},
   "source": [
    "#### Inner Join (default)"
   ]
  },
  {
   "cell_type": "code",
   "execution_count": null,
   "metadata": {},
   "outputs": [],
   "source": [
    "# A new dataframe. What's different?\n",
    "right1 = pd.DataFrame({'key': ['K0', 'K1', 'K3'], \\\n",
    "                      'C': ['C0', 'C1', 'C3'], \\\n",
    "                      'D': ['D0', 'D1', 'D3']})\n",
    "result1 = pd.merge(left, right1, on='key') \n",
    "\n",
    "# Display the first 5 rows of the result1\n",
    "result1.???"
   ]
  },
  {
   "cell_type": "markdown",
   "metadata": {},
   "source": [
    "#### Left Outer Join"
   ]
  },
  {
   "cell_type": "code",
   "execution_count": null,
   "metadata": {},
   "outputs": [],
   "source": [
    "result2 = pd.merge(left, right1, how='left', on='key') \n",
    "\n",
    "# Display the first 5 rows of the result\n",
    "result2.???"
   ]
  },
  {
   "cell_type": "markdown",
   "metadata": {},
   "source": [
    "#### Right Outer Join"
   ]
  },
  {
   "cell_type": "code",
   "execution_count": null,
   "metadata": {},
   "outputs": [],
   "source": [
    "result3 = pd.merge(left, right1, how='right', on='key') \n",
    "\n",
    "# Display the first 5 rows of the result\n",
    "result3.???"
   ]
  },
  {
   "cell_type": "markdown",
   "metadata": {},
   "source": [
    "#### Outer Join"
   ]
  },
  {
   "cell_type": "code",
   "execution_count": null,
   "metadata": {},
   "outputs": [],
   "source": [
    "# A new dataframe. What's different?\n",
    "left1 = pd.DataFrame({'key': ['K1', 'K2', 'K3'], \\\n",
    "                     'A': ['A1', 'A2', 'A3'], \\\n",
    "                     'B': ['B1', 'B2', 'B3']})\n",
    "result4 = pd.merge(left1, right1, how='outer', on='key') \n",
    "\n",
    "# Display the first 5 rows of the result\n",
    "result4.???"
   ]
  },
  {
   "cell_type": "markdown",
   "metadata": {},
   "source": [
    "## Consider this\n",
    "Why do some entries display `NaN` in some of join results?"
   ]
  }
 ],
 "metadata": {
  "kernelspec": {
   "display_name": "Python 3",
   "language": "python",
   "name": "python3"
  },
  "language_info": {
   "codemirror_mode": {
    "name": "ipython",
    "version": 3
   },
   "file_extension": ".py",
   "mimetype": "text/x-python",
   "name": "python",
   "nbconvert_exporter": "python",
   "pygments_lexer": "ipython3",
   "version": "3.5.2"
  }
 },
 "nbformat": 4,
 "nbformat_minor": 2
}
