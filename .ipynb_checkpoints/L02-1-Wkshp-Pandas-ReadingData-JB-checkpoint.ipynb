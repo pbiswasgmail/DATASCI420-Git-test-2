{
 "cells": [
  {
   "cell_type": "markdown",
   "metadata": {},
   "source": [
    "# <font color=\"blue\">Lesson 2 - Data Preparation and Retrieval</font>\n"
   ]
  },
  {
   "cell_type": "markdown",
   "metadata": {},
   "source": [
    "# Data Exploration in Pandas- A Review\n",
    "In this lab, we'll walk through some basic data exploration techniques in pandas, starting with reading data and working our way through manipulating data frames. \n",
    "\n",
    "## Reading in Data"
   ]
  },
  {
   "cell_type": "markdown",
   "metadata": {},
   "source": [
    "### Reading in data from a CSV or TSV file\n",
    "We can read in data from any file that is comma or tab separated by feeding pandas read_csv() function and the following arguments: \n",
    "\n",
    "- path = file path to tsv or csv file, we specify this first \n",
    "- sep = \"\\t\" for tab separated files, or \",\" for comma separated files\n",
    "- header = if the first line of the file has a header we want to keep, we would set header = 0"
   ]
  },
  {
   "cell_type": "code",
   "execution_count": 1,
   "metadata": {},
   "outputs": [
    {
     "data": {
      "text/html": [
       "<div>\n",
       "<style>\n",
       "    .dataframe thead tr:only-child th {\n",
       "        text-align: right;\n",
       "    }\n",
       "\n",
       "    .dataframe thead th {\n",
       "        text-align: left;\n",
       "    }\n",
       "\n",
       "    .dataframe tbody tr th {\n",
       "        vertical-align: top;\n",
       "    }\n",
       "</style>\n",
       "<table border=\"1\" class=\"dataframe\">\n",
       "  <thead>\n",
       "    <tr style=\"text-align: right;\">\n",
       "      <th></th>\n",
       "      <th>Cust ID</th>\n",
       "      <th>Gender</th>\n",
       "      <th>Income</th>\n",
       "      <th>Age</th>\n",
       "      <th>Rentals</th>\n",
       "      <th>Avg Per Visit</th>\n",
       "      <th>Incidentals</th>\n",
       "      <th>Genre</th>\n",
       "    </tr>\n",
       "  </thead>\n",
       "  <tbody>\n",
       "    <tr>\n",
       "      <th>0</th>\n",
       "      <td>1</td>\n",
       "      <td>M</td>\n",
       "      <td>45000</td>\n",
       "      <td>25</td>\n",
       "      <td>27</td>\n",
       "      <td>2.5</td>\n",
       "      <td>Yes</td>\n",
       "      <td>Action</td>\n",
       "    </tr>\n",
       "    <tr>\n",
       "      <th>1</th>\n",
       "      <td>2</td>\n",
       "      <td>F</td>\n",
       "      <td>54000</td>\n",
       "      <td>33</td>\n",
       "      <td>12</td>\n",
       "      <td>3.4</td>\n",
       "      <td>No</td>\n",
       "      <td>Drama</td>\n",
       "    </tr>\n",
       "    <tr>\n",
       "      <th>2</th>\n",
       "      <td>3</td>\n",
       "      <td>F</td>\n",
       "      <td>32000</td>\n",
       "      <td>20</td>\n",
       "      <td>42</td>\n",
       "      <td>1.6</td>\n",
       "      <td>No</td>\n",
       "      <td>Comedy</td>\n",
       "    </tr>\n",
       "    <tr>\n",
       "      <th>3</th>\n",
       "      <td>4</td>\n",
       "      <td>F</td>\n",
       "      <td>59000</td>\n",
       "      <td>70</td>\n",
       "      <td>16</td>\n",
       "      <td>4.2</td>\n",
       "      <td>Yes</td>\n",
       "      <td>Drama</td>\n",
       "    </tr>\n",
       "    <tr>\n",
       "      <th>4</th>\n",
       "      <td>5</td>\n",
       "      <td>M</td>\n",
       "      <td>37000</td>\n",
       "      <td>35</td>\n",
       "      <td>25</td>\n",
       "      <td>3.2</td>\n",
       "      <td>Yes</td>\n",
       "      <td>Action</td>\n",
       "    </tr>\n",
       "  </tbody>\n",
       "</table>\n",
       "</div>"
      ],
      "text/plain": [
       "   Cust ID Gender  Income  Age  Rentals  Avg Per Visit Incidentals   Genre\n",
       "0        1      M   45000   25       27            2.5         Yes  Action\n",
       "1        2      F   54000   33       12            3.4          No   Drama\n",
       "2        3      F   32000   20       42            1.6          No  Comedy\n",
       "3        4      F   59000   70       16            4.2         Yes   Drama\n",
       "4        5      M   37000   35       25            3.2         Yes  Action"
      ]
     },
     "execution_count": 1,
     "metadata": {},
     "output_type": "execute_result"
    }
   ],
   "source": [
    "# first we need to import the pandas package\n",
    "import pandas as pd\n",
    "\n",
    "# save the file path as a variable\n",
    "videoFile_path = \"./Video_Store.csv\"\n",
    "\n",
    "# read in the csv as a pandas dataframe\n",
    "video_df = pd.read_csv(videoFile_path, sep=\",\", header=0)\n",
    "video_df.head()"
   ]
  },
  {
   "cell_type": "markdown",
   "metadata": {},
   "source": [
    "### Read from Excel File\n",
    "Before you can use this function, you'll need to run the following installation on your command line: \n",
    "\n",
    "    pip install --user xlrd\n",
    "\n",
    "We can also use pandas to read in files from Excel with the read_excel() function, and arugments simlar to read_csv():\n",
    "- path = file path\n",
    "- sheet_name = name of sheet to read in if there are multiple sheets\n",
    "- header = 0 if there are column names"
   ]
  },
  {
   "cell_type": "code",
   "execution_count": null,
   "metadata": {
    "collapsed": true
   },
   "outputs": [],
   "source": [
    "excel_df = pd.read_excel(videoFile_path, sheet_name=1, header=0)"
   ]
  },
  {
   "cell_type": "markdown",
   "metadata": {},
   "source": [
    "### Read from URL\n",
    "We can use pandas to easily read in data from a URL, as long as that data is in a TSV or CSV format. \n",
    "\n",
    "Browse to this URL to take a look at the format:\n",
    "https://archive.ics.uci.edu/ml/machine-learning-databases/adult/adult.data\n",
    "\n",
    "Now that we know what a CSV (comma separated values) file looks like online, we can learn how to read it in with Pandas. "
   ]
  },
  {
   "cell_type": "code",
   "execution_count": null,
   "metadata": {
    "collapsed": true
   },
   "outputs": [],
   "source": [
    "# import the pandas package\n",
    "import pandas as pd\n",
    "\n",
    "# save the url as a variable - use quotes\n",
    "url = ???\n",
    "\n",
    "#Testing again\n",
    "#Editing as jayitb"
   ]
  },
  {
   "cell_type": "code",
   "execution_count": null,
   "metadata": {
    "collapsed": true
   },
   "outputs": [],
   "source": [
    "# use pandas read_csv() function and feed it a URL\n",
    "c = pd.read_csv(???)"
   ]
  },
  {
   "cell_type": "code",
   "execution_count": null,
   "metadata": {
    "collapsed": true
   },
   "outputs": [],
   "source": [
    "# add a list of column names, this must be the same length as num columns\n",
    "c.??? = [\"age\", \"workclass\", \"fnlwgt\", \"education\", \"education_num\", \\\n",
    "                    \"marital-status\", \"occupation\", \"relationship\", \"race\", \"sex\", \\\n",
    "                    \"capital_gain\", \"capital_loss\", \"hours_per_week\", \"native_country\", \"income\"]"
   ]
  },
  {
   "cell_type": "code",
   "execution_count": null,
   "metadata": {
    "collapsed": true
   },
   "outputs": [],
   "source": [
    "\n",
    "# lets take a look at the first 10 lines of our dataframe\n",
    "c.head(???)"
   ]
  }
 ],
 "metadata": {
  "kernelspec": {
   "display_name": "Python 3",
   "language": "python",
   "name": "python3"
  },
  "language_info": {
   "codemirror_mode": {
    "name": "ipython",
    "version": 3
   },
   "file_extension": ".py",
   "mimetype": "text/x-python",
   "name": "python",
   "nbconvert_exporter": "python",
   "pygments_lexer": "ipython3",
   "version": "3.6.3"
  }
 },
 "nbformat": 4,
 "nbformat_minor": 2
}
