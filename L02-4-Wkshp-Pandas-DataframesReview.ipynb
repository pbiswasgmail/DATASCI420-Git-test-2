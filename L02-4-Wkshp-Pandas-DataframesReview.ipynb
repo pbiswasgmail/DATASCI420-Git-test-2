{
 "cells": [
  {
   "cell_type": "markdown",
   "metadata": {},
   "source": [
    "# <font color=\"blue\">Lesson 2 - Data Preparation and Retrieval</font>\n",
    "The following code should look familiar to you. Walk through the following code on your own, step by step, adding in calls to display the dataframe along the way."
   ]
  },
  {
   "cell_type": "code",
   "execution_count": null,
   "metadata": {},
   "outputs": [],
   "source": [
    "# import required modules\n",
    "import pandas as pd\n",
    "import numpy as np\n"
   ]
  },
  {
   "cell_type": "code",
   "execution_count": null,
   "metadata": {},
   "outputs": [],
   "source": [
    "# set random seed \n",
    "np.random.seed(42)\n",
    "\n",
    "# employee sales table using numpy randint\n",
    "emp_sales = np.random.randint(100,3000, size=(3,4)).astype(\"float\")\n",
    "\n",
    "# convert to pandas dataframe\n",
    "sales_df = pd.DataFrame(np.random.randint(100,3000,size=(3, 4)), columns=list('ABCD')).astype(\"float\")\n",
    "\n",
    "# create employee info data frame from list of dictionaries\n",
    "info_dict = [{\"id\":10115, \"first_name\":\"Bob\", \"last_name\":\"Edwards\", \"comm_pct\":5.6},\n",
    " {\"id\":10117, \"first_name\":\"Helen\", \"last_name\":\"Sanchez\", \"comm_pct\":7.8},\n",
    " {\"id\":19928, \"first_name\":\"Mohammed\", \"last_name\":\"Mamali\", \"comm_pct\":5.6}\n",
    " ]\n",
    "info_df = pd.DataFrame(info_dict)"
   ]
  },
  {
   "cell_type": "code",
   "execution_count": null,
   "metadata": {},
   "outputs": [],
   "source": [
    "### insert a column ###\n",
    "\n",
    "# or add new column from a list of id's\n",
    "sales_df['id'] = [10115,10117, 19928]\n",
    "\n",
    "### update column names ###\n",
    "\n",
    "# change column names using dictionary mapping \n",
    "new_col_names = {\"A\":\"Q1_sales\", \"B\":\"Q2_sales\", \"C\":\"Q3_sales\", \"D\":\"Q4_sales\"}\n",
    "sales_df.rename(columns=new_col_names, inplace=True)\n",
    "\n",
    "combo_df = info_df.merge(sales_df, how=\"inner\", on=\"id\")"
   ]
  },
  {
   "cell_type": "code",
   "execution_count": null,
   "metadata": {},
   "outputs": [],
   "source": [
    "### set index on a dataframe ###\n",
    "\n",
    "combo_df.index= info_df['id']\n",
    "# drop leftover id column (1 = by column, 0 = by row)\n",
    "combo_df.drop('id', axis=1, inplace=True)"
   ]
  },
  {
   "cell_type": "code",
   "execution_count": null,
   "metadata": {},
   "outputs": [],
   "source": [
    "### insert a row in a dataframe ###\n",
    "\n",
    "# add new row to info_df\n",
    "combo_df.loc[19917] = [4.6, \"Astrid\", \"Moonbeam\", 553,1912,198,2055]\n",
    "\n",
    "### summing a row ###\n",
    "\n",
    "# add ttl_sales column using a subset\n",
    "combo_df['ttl_sales'] = combo_df[['Q1_sales', 'Q2_sales', 'Q3_sales', 'Q4_sales']].sum(axis=1)"
   ]
  },
  {
   "cell_type": "code",
   "execution_count": null,
   "metadata": {},
   "outputs": [],
   "source": [
    "# multiply ttl_sales by comm_pct to find emp_ttl_comm\n",
    "combo_df['emp_ttl_comm'] = combo_df['comm_pct'] * combo_df['ttl_sales']\n",
    "print(combo_df)"
   ]
  },
  {
   "cell_type": "markdown",
   "metadata": {},
   "source": [
    "## Your Turn\n",
    "Fix the employee payout calculation by turning the comm_pct column into an actual percent."
   ]
  }
 ],
 "metadata": {
  "kernelspec": {
   "display_name": "Python 3",
   "language": "python",
   "name": "python3"
  },
  "language_info": {
   "codemirror_mode": {
    "name": "ipython",
    "version": 3
   },
   "file_extension": ".py",
   "mimetype": "text/x-python",
   "name": "python",
   "nbconvert_exporter": "python",
   "pygments_lexer": "ipython3",
   "version": "3.6.5"
  }
 },
 "nbformat": 4,
 "nbformat_minor": 2
}
